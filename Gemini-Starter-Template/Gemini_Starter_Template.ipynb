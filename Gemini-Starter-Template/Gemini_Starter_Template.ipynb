{
 "cells": [
  {
   "cell_type": "markdown",
   "id": "a162b9ea-931e-4b38-962e-f4c953cb9a35",
   "metadata": {},
   "source": [
    "This is a starter template for a single shot Anthropic's Claude API call "
   ]
  },
  {
   "cell_type": "code",
   "execution_count": 1,
   "id": "e16fb864-77e1-4804-8788-5b17a57d2d12",
   "metadata": {},
   "outputs": [],
   "source": [
    "#Setup Imports\n",
    "import os\n",
    "import requests\n",
    "import google.generativeai\n",
    "from dotenv import load_dotenv"
   ]
  },
  {
   "cell_type": "code",
   "execution_count": 2,
   "id": "68af5b4f-f3e5-4869-bbc4-e994c9bc8f31",
   "metadata": {},
   "outputs": [
    {
     "name": "stdout",
     "output_type": "stream",
     "text": [
      "Google API Key exists and begins AIzaSyCk\n"
     ]
    }
   ],
   "source": [
    "# Load .env file and check the key validity.\n",
    "load_dotenv()\n",
    "\n",
    "google_api_key = os.getenv('GOOGLE_API_KEY')\n",
    "\n",
    "if google_api_key:\n",
    "    print(f\"Google API Key exists and begins {google_api_key[:8]}\")\n",
    "else:\n",
    "    print(\"Google API Key not set\")"
   ]
  },
  {
   "cell_type": "code",
   "execution_count": 3,
   "id": "f965c85e-8a6f-4564-a5ae-fe1efcf5b01b",
   "metadata": {},
   "outputs": [],
   "source": [
    "# Connect to Gemini\n",
    "\n",
    "google.generativeai.configure()"
   ]
  },
  {
   "cell_type": "code",
   "execution_count": 4,
   "id": "beccaa82-e87e-4e1f-b24c-11b6d4a82786",
   "metadata": {},
   "outputs": [],
   "source": [
    "# Set the system message defining how the AI should \"act\"\n",
    "system_message = \"You are a helpful assistant\""
   ]
  },
  {
   "cell_type": "code",
   "execution_count": 8,
   "id": "b2a8fa30-2f75-4abd-b22f-9f1b268c4d8e",
   "metadata": {},
   "outputs": [],
   "source": [
    "# Claude 3.5 Sonnet - beware you may need to update the model being used if deprecated. You'll get an error stating as much.\n",
    "# Also adding max_tokens to keep costs down\n",
    "# also added temperature just for example purposes.\n",
    "\n",
    "def message_gemini(prompt):\n",
    "   gemini = google.generativeai.GenerativeModel(\n",
    "    model_name='gemini-1.5-flash',\n",
    "    system_instruction=system_message\n",
    "   )\n",
    "   response = gemini.generate_content(prompt)\n",
    "\n",
    "   return response.text"
   ]
  },
  {
   "cell_type": "code",
   "execution_count": 9,
   "id": "c13475bb-88ab-4307-a79f-7533752dae27",
   "metadata": {},
   "outputs": [
    {
     "data": {
      "text/plain": [
       "\"Whether or not you should exercise with sore muscles depends on the type and severity of the soreness.\\n\\n**If your soreness is mild (DOMS - Delayed Onset Muscle Soreness):**  This is the typical muscle soreness you feel a day or two after a workout.  Light activity, like a short walk or gentle stretching, can actually help improve blood flow and reduce soreness.  However, you should avoid intense workouts that exacerbate the pain. Listen to your body; if something feels too painful, stop.\\n\\n**If your soreness is moderate to severe:** This could indicate an injury, such as a strain or tear.  You should avoid strenuous exercise and rest the affected area.  Ice, compression, and elevation (RICE) can help.  If the pain is severe, persistent, or accompanied by swelling or other symptoms, consult a doctor or physical therapist.\\n\\n**In short:**\\n\\n* **Mild soreness (DOMS):** Light activity is often okay.  Focus on low-intensity movement.\\n* **Moderate to severe soreness:** Rest is crucial. Avoid intense exercise and consult a medical professional if necessary.\\n\\n\\nIt's always best to listen to your body.  If something feels wrong, don't push it.  A short break can be beneficial for recovery, and preventing further injury is always more important than a single workout.\\n\""
      ]
     },
     "execution_count": 9,
     "metadata": {},
     "output_type": "execute_result"
    }
   ],
   "source": [
    "# Test\n",
    "message_gemini(\"Should I exercise if my muscles are sore?\")"
   ]
  },
  {
   "cell_type": "code",
   "execution_count": null,
   "id": "0498aeef-2037-422e-aab1-cbfb02a8d62b",
   "metadata": {},
   "outputs": [],
   "source": []
  }
 ],
 "metadata": {
  "kernelspec": {
   "display_name": "Python 3 (ipykernel)",
   "language": "python",
   "name": "python3"
  },
  "language_info": {
   "codemirror_mode": {
    "name": "ipython",
    "version": 3
   },
   "file_extension": ".py",
   "mimetype": "text/x-python",
   "name": "python",
   "nbconvert_exporter": "python",
   "pygments_lexer": "ipython3",
   "version": "3.11.11"
  }
 },
 "nbformat": 4,
 "nbformat_minor": 5
}
