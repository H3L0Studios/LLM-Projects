{
 "cells": [
  {
   "cell_type": "code",
   "execution_count": 34,
   "id": "b6598d4d-68a3-415e-bece-837b13bd5e6e",
   "metadata": {},
   "outputs": [],
   "source": [
    "# Setup Imports\n",
    "import requests\n",
    "import os\n",
    "import requests\n",
    "from IPython.display import Markdown, display\n",
    "from dotenv import load_dotenv\n",
    "from openai import OpenAI"
   ]
  },
  {
   "cell_type": "code",
   "execution_count": 35,
   "id": "a5e49038-0a48-4111-932c-4f5df5d85e61",
   "metadata": {},
   "outputs": [],
   "source": [
    "# #Load API key from .env file\n",
    "load_dotenv()\n",
    "\n",
    "# Define your API keys and URL\n",
    "API_KEY = os.getenv('COIN_MARKET_CAP_API_KEY')\n",
    "openai_api_key = os.getenv('OPENAI_API_KEY')\n",
    "BASE_URL = 'https://pro-api.coinmarketcap.com/v1/cryptocurrency/listings/latest'\n"
   ]
  },
  {
   "cell_type": "code",
   "execution_count": 36,
   "id": "9b848879-6b43-4929-97fe-94629a881b69",
   "metadata": {},
   "outputs": [],
   "source": [
    "# Set headers for authentication\n",
    "headers = {\n",
    "    'Accepts': 'application/json',\n",
    "    'X-CMC_PRO_API_KEY': API_KEY,\n",
    "}\n",
    "\n",
    "# Define parameters for the request\n",
    "params = {\n",
    "    'start': '1',  # Start at rank 1\n",
    "    'limit': '50',  # Get the top 10 cryptocurrencies\n",
    "    'convert': 'USD'  # Convert prices to USD\n",
    "}"
   ]
  },
  {
   "cell_type": "code",
   "execution_count": 37,
   "id": "16b2b4d8-c009-4aba-afb2-81793c4fd395",
   "metadata": {},
   "outputs": [
    {
     "name": "stdout",
     "output_type": "stream",
     "text": [
      "Create a newsletter highlighting this weeks cryptocurrency winners based on this 7 day performance assessment. Output should be in markdown. Top 50 Cryptocurrencies:\n",
      " Bitcoin (BTC): $96906.31 (1h Change: +1.68%)\n",
      " Ethereum (ETH): $3521.55 (1h Change: +5.25%)\n",
      " XRP (XRP): $2.43 (1h Change: +13.08%)\n",
      " Tether USDt (USDT): $1.00 (1h Change: +0.08%)\n",
      " Solana (SOL): $217.74 (1h Change: +16.84%)\n",
      " BNB (BNB): $708.57 (1h Change: +2.25%)\n",
      " Dogecoin (DOGE): $0.36 (1h Change: +16.08%)\n",
      " USDC (USDC): $1.00 (1h Change: +0.03%)\n",
      " Cardano (ADA): $1.08 (1h Change: +23.79%)\n",
      " TRON (TRX): $0.27 (1h Change: +1.75%)\n",
      " Avalanche (AVAX): $41.49 (1h Change: +11.67%)\n",
      " Chainlink (LINK): $22.93 (1h Change: +1.44%)\n",
      " Toncoin (TON): $5.74 (1h Change: +0.21%)\n",
      " Shiba Inu (SHIB): $0.00 (1h Change: +9.18%)\n",
      " Stellar (XLM): $0.44 (1h Change: +27.76%)\n",
      " Sui (SUI): $4.47 (1h Change: +7.15%)\n",
      " Polkadot (DOT): $7.84 (1h Change: +13.23%)\n",
      " Hedera (HBAR): $0.31 (1h Change: +12.39%)\n",
      " Bitcoin Cash (BCH): $467.61 (1h Change: +4.80%)\n",
      " Pepe (PEPE): $0.00 (1h Change: +19.53%)\n",
      " Uniswap (UNI): $14.67 (1h Change: +8.00%)\n",
      " UNUS SED LEO (LEO): $9.08 (1h Change: -1.37%)\n",
      " Litecoin (LTC): $108.94 (1h Change: +7.36%)\n",
      " Hyperliquid (HYPE): $23.79 (1h Change: -11.83%)\n",
      " Bitget Token (BGB): $6.24 (1h Change: -25.66%)\n",
      " NEAR Protocol (NEAR): $5.73 (1h Change: +12.54%)\n",
      " Ethena USDe (USDe): $1.00 (1h Change: +0.00%)\n",
      " Internet Computer (ICP): $11.89 (1h Change: +15.60%)\n",
      " Aptos (APT): $9.62 (1h Change: +9.11%)\n",
      " Dai (DAI): $1.00 (1h Change: +0.03%)\n",
      " Aave (AAVE): $343.84 (1h Change: +5.31%)\n",
      " Mantle (MNT): $1.38 (1h Change: +15.31%)\n",
      " POL (ex-MATIC) (POL): $0.51 (1h Change: +5.41%)\n",
      " Virtuals Protocol (VIRTUAL): $4.24 (1h Change: +25.07%)\n",
      " Ethereum Classic (ETC): $27.93 (1h Change: +6.77%)\n",
      " VeChain (VET): $0.05 (1h Change: +9.63%)\n",
      " Cronos (CRO): $0.16 (1h Change: +2.71%)\n",
      " Bittensor (TAO): $554.67 (1h Change: +15.87%)\n",
      " Render (RENDER): $7.89 (1h Change: +11.63%)\n",
      " Monero (XMR): $202.26 (1h Change: +4.33%)\n",
      " MANTRA (OM): $3.88 (1h Change: +5.09%)\n",
      " Artificial Superintelligence Alliance (FET): $1.50 (1h Change: +13.64%)\n",
      " Ethena (ENA): $1.19 (1h Change: +27.41%)\n",
      " Algorand (ALGO): $0.42 (1h Change: +21.67%)\n",
      " Filecoin (FIL): $5.61 (1h Change: +12.87%)\n",
      " Arbitrum (ARB): $0.81 (1h Change: +5.68%)\n",
      " Kaspa (KAS): $0.13 (1h Change: +10.65%)\n",
      " OKB (OKB): $50.23 (1h Change: -2.92%)\n",
      " Cosmos (ATOM): $7.14 (1h Change: +9.83%)\n",
      " Optimism (OP): $1.95 (1h Change: +6.15%)\n"
     ]
    }
   ],
   "source": [
    "try:\n",
    "    # Send the GET request\n",
    "    response = requests.get(BASE_URL, headers=headers, params=params)\n",
    "    response.raise_for_status()  # Raise an error for bad HTTP status codes\n",
    "    data = response.json()  # Parse JSON response\n",
    "\n",
    "    # Display the ticker data with 1-hour change\n",
    "    prompt_message = f\"Create a newsletter highlighting this weeks cryptocurrency winners based on this 7 day performance assessment. Output should be in markdown. Top 50 Cryptocurrencies:\"\n",
    "   \n",
    "    for crypto in data['data']:\n",
    "        name = crypto['name']\n",
    "        symbol = crypto['symbol']\n",
    "        price = crypto['quote']['USD']['price']\n",
    "        change_7d = crypto['quote']['USD']['percent_change_7d']\n",
    "        prompt_message += f\"\\n {name} ({symbol}): ${price:.2f} (1h Change: {change_7d:+.2f}%)\"\n",
    "        \n",
    "    print (prompt_message)\n",
    "except requests.exceptions.RequestException as e:\n",
    "    print(f\"An error occurred: {e}\")"
   ]
  },
  {
   "cell_type": "code",
   "execution_count": 38,
   "id": "26fc0867-abda-4834-8984-f42708dcba7f",
   "metadata": {},
   "outputs": [],
   "source": [
    "# Connect to OpenAI\n",
    "openai = OpenAI()"
   ]
  },
  {
   "cell_type": "code",
   "execution_count": 39,
   "id": "1f61012c-ff2e-43d9-941e-d3102a9e474b",
   "metadata": {},
   "outputs": [],
   "source": [
    "# Set the system message defining how the AI should \"act\"\n",
    "system_message = \"You are a helpful assistant that likes to make newsletters on cryptocurrency.\""
   ]
  },
  {
   "cell_type": "code",
   "execution_count": 40,
   "id": "751adc11-f4c3-4ec5-9848-92cf75e9aaf1",
   "metadata": {},
   "outputs": [],
   "source": [
    "# Make a function that does a basic one shot call to GPT. \n",
    "# It takes in an argument of what the user wants to ask ChatGPT and returns the single response text.\n",
    "\n",
    "def message_gpt(prompt):\n",
    "    messages = [\n",
    "        {\"role\": \"system\", \"content\": system_message},\n",
    "        {\"role\": \"user\", \"content\": prompt}\n",
    "      ]\n",
    "    completion = openai.chat.completions.create(\n",
    "        model='gpt-4o-mini',\n",
    "        messages=messages,\n",
    "    )\n",
    "    return completion.choices[0].message.content"
   ]
  },
  {
   "cell_type": "code",
   "execution_count": 41,
   "id": "778d4e56-9116-4dcf-b659-98b0b7d7862e",
   "metadata": {},
   "outputs": [
    {
     "data": {
      "text/markdown": [
       "# Weekly Cryptocurrency Winners Newsletter\n",
       "\n",
       "Welcome to this week's roundup of the top-performing cryptocurrencies! We've analyzed the latest data from the top 50 cryptocurrencies based on their price changes over the last 7 days. Let's dive into the top gainers who have made significant strides.\n",
       "\n",
       "## Top Performers of the Week\n",
       "\n",
       "### 1. Cardano (ADA)\n",
       "- **Current Price:** $1.08\n",
       "- **7-Day Performance:** **+23.79%**\n",
       "- **1h Change:** +23.79%\n",
       "\n",
       "### 2. Stellar (XLM)\n",
       "- **Current Price:** $0.44\n",
       "- **7-Day Performance:** **+27.76%**\n",
       "- **1h Change:** +27.76%\n",
       "\n",
       "### 3. Ethena (ENA)\n",
       "- **Current Price:** $1.19\n",
       "- **7-Day Performance:** **+27.41%**\n",
       "- **1h Change:** +27.41%\n",
       "\n",
       "### 4. Virtuals Protocol (VIRTUAL)\n",
       "- **Current Price:** $4.24\n",
       "- **7-Day Performance:** **+25.07%**\n",
       "- **1h Change:** +25.07%\n",
       "\n",
       "### 5. Algorand (ALGO)\n",
       "- **Current Price:** $0.42\n",
       "- **7-Day Performance:** **+21.67%**\n",
       "- **1h Change:** +21.67%\n",
       "\n",
       "### 6. Dogecoin (DOGE)\n",
       "- **Current Price:** $0.36\n",
       "- **7-Day Performance:** **+16.08%**\n",
       "- **1h Change:** +16.08%\n",
       "\n",
       "### 7. Solana (SOL)\n",
       "- **Current Price:** $217.74\n",
       "- **7-Day Performance:** **+16.84%**\n",
       "- **1h Change:** +16.84%\n",
       "\n",
       "### 8. Internet Computer (ICP)\n",
       "- **Current Price:** $11.89\n",
       "- **7-Day Performance:** **+15.60%**\n",
       "- **1h Change:** +15.60%\n",
       "\n",
       "### 9. Mantle (MNT)\n",
       "- **Current Price:** $1.38\n",
       "- **7-Day Performance:** **+15.31%**\n",
       "- **1h Change:** +15.31%\n",
       "\n",
       "### 10. Bittensor (TAO)\n",
       "- **Current Price:** $554.67\n",
       "- **7-Day Performance:** **+15.87%**\n",
       "- **1h Change:** +15.87%\n",
       "\n",
       "## Notable Mentions\n",
       "- **XRP (XRP)**: $2.43 (+13.08%)\n",
       "- **Hedera (HBAR)**: $0.31 (+12.39%)\n",
       "- **Filecoin (FIL)**: $5.61 (+12.87%)\n",
       "- **Avalanche (AVAX)**: $41.49 (+11.67%)\n",
       "\n",
       "## Conclusion\n",
       "This week has seen exciting movement in the cryptocurrency market, with several assets making impressive gains. Keep an eye on these top performers as they continue to shape the market landscape.\n",
       "\n",
       "Stay tuned for more updates and happy trading!\n",
       "\n",
       "--- \n",
       "\n",
       "**Disclaimer:** This newsletter is intended for informational purposes only and should not be considered financial advice. Always do your own research before investing in cryptocurrencies."
      ],
      "text/plain": [
       "<IPython.core.display.Markdown object>"
      ]
     },
     "metadata": {},
     "output_type": "display_data"
    }
   ],
   "source": [
    "newsletter = message_gpt(prompt_message)\n",
    "display(Markdown(newsletter))"
   ]
  },
  {
   "cell_type": "code",
   "execution_count": null,
   "id": "1f44db59-daf4-4148-8d99-d63ce50eb13d",
   "metadata": {},
   "outputs": [],
   "source": []
  }
 ],
 "metadata": {
  "kernelspec": {
   "display_name": "Python 3 (ipykernel)",
   "language": "python",
   "name": "python3"
  },
  "language_info": {
   "codemirror_mode": {
    "name": "ipython",
    "version": 3
   },
   "file_extension": ".py",
   "mimetype": "text/x-python",
   "name": "python",
   "nbconvert_exporter": "python",
   "pygments_lexer": "ipython3",
   "version": "3.11.11"
  }
 },
 "nbformat": 4,
 "nbformat_minor": 5
}
