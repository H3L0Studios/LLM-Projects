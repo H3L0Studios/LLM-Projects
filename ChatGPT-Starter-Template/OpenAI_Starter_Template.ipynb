{
 "cells": [
  {
   "cell_type": "markdown",
   "id": "f0116bc6-d59c-4b59-b60d-837961f0b3ed",
   "metadata": {},
   "source": [
    "This is a starter template for a single shot OpenAI API call to ChatGPT"
   ]
  },
  {
   "cell_type": "code",
   "execution_count": 1,
   "id": "5aa400b2-3020-4d90-837c-76ce5c2b565f",
   "metadata": {},
   "outputs": [],
   "source": [
    "#Setup Imports\n",
    "import os\n",
    "import requests\n",
    "from dotenv import load_dotenv\n",
    "from openai import OpenAI"
   ]
  },
  {
   "cell_type": "code",
   "execution_count": 2,
   "id": "7e015d09-4b93-457b-bf5b-27264de84a2d",
   "metadata": {},
   "outputs": [
    {
     "name": "stdout",
     "output_type": "stream",
     "text": [
      "OpenAI API Key exists and begins sk-proj-\n"
     ]
    }
   ],
   "source": [
    "#Load API key from .env file and perform key check\n",
    "load_dotenv()\n",
    "openai_api_key = os.getenv('OPENAI_API_KEY')\n",
    "\n",
    "if openai_api_key:\n",
    "    print(f\"OpenAI API Key exists and begins {openai_api_key[:8]}\")\n",
    "else:\n",
    "    print(\"OpenAI API Key not set\")"
   ]
  },
  {
   "cell_type": "code",
   "execution_count": 3,
   "id": "0459c499-4fc7-4894-8da3-7342fbee64ea",
   "metadata": {},
   "outputs": [],
   "source": [
    "# Connect to OpenAI\n",
    "openai = OpenAI()"
   ]
  },
  {
   "cell_type": "code",
   "execution_count": 4,
   "id": "a6982dc0-b05c-4240-8c89-156086da9645",
   "metadata": {},
   "outputs": [],
   "source": [
    "# Set the system message defining how the AI should \"act\"\n",
    "system_message = \"You are a helpful assistant\""
   ]
  },
  {
   "cell_type": "code",
   "execution_count": 5,
   "id": "44a90a48-228b-40e4-8fd3-15117630e260",
   "metadata": {},
   "outputs": [],
   "source": [
    "# Make a function that does a basic one shot call to GPT. \n",
    "# It takes in an argument of what the user wants to ask ChatGPT and returns the single response text.\n",
    "\n",
    "def message_gpt(prompt):\n",
    "    messages = [\n",
    "        {\"role\": \"system\", \"content\": system_message},\n",
    "        {\"role\": \"user\", \"content\": prompt}\n",
    "      ]\n",
    "    completion = openai.chat.completions.create(\n",
    "        model='gpt-4o-mini',\n",
    "        messages=messages,\n",
    "    )\n",
    "    return completion.choices[0].message.content"
   ]
  },
  {
   "cell_type": "code",
   "execution_count": 6,
   "id": "fedd3645-e4ff-4ccd-864f-60e7c0a6ad15",
   "metadata": {},
   "outputs": [
    {
     "data": {
      "text/plain": [
       "'The classic question about the airspeed velocity of an unladen swallow is often referenced in popular culture, particularly in the film \"Monty Python and the Holy Grail.\" In a more scientific context, the airspeed of a European swallow (Hirundo rustica) is estimated to be around 11 meters per second, or about 24 miles per hour (approximately 39 kilometers per hour) when cruising. However, this can vary based on factors such as wind conditions and the individual bird\\'s health.'"
      ]
     },
     "execution_count": 6,
     "metadata": {},
     "output_type": "execute_result"
    }
   ],
   "source": [
    "# Test with a call to ChatGPT\n",
    "message_gpt(\"What is the airspeed velocity of an unlaiden swallow? A european one, not an african one.\")"
   ]
  },
  {
   "cell_type": "code",
   "execution_count": null,
   "id": "b4f4cd82-16ad-4e68-a23a-ddb88f12fb1a",
   "metadata": {},
   "outputs": [],
   "source": []
  }
 ],
 "metadata": {
  "kernelspec": {
   "display_name": "Python 3 (ipykernel)",
   "language": "python",
   "name": "python3"
  },
  "language_info": {
   "codemirror_mode": {
    "name": "ipython",
    "version": 3
   },
   "file_extension": ".py",
   "mimetype": "text/x-python",
   "name": "python",
   "nbconvert_exporter": "python",
   "pygments_lexer": "ipython3",
   "version": "3.11.11"
  }
 },
 "nbformat": 4,
 "nbformat_minor": 5
}
