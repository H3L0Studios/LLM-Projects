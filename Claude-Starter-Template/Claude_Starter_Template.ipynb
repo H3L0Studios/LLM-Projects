{
 "cells": [
  {
   "cell_type": "markdown",
   "id": "a162b9ea-931e-4b38-962e-f4c953cb9a35",
   "metadata": {},
   "source": [
    "This is a starter template for a single shot Anthropic's Claude API call "
   ]
  },
  {
   "cell_type": "code",
   "execution_count": 1,
   "id": "e16fb864-77e1-4804-8788-5b17a57d2d12",
   "metadata": {},
   "outputs": [],
   "source": [
    "#Setup Imports\n",
    "import os\n",
    "import requests\n",
    "from dotenv import load_dotenv\n",
    "import anthropic"
   ]
  },
  {
   "cell_type": "code",
   "execution_count": 2,
   "id": "68af5b4f-f3e5-4869-bbc4-e994c9bc8f31",
   "metadata": {},
   "outputs": [
    {
     "name": "stdout",
     "output_type": "stream",
     "text": [
      "Anthropic API Key exists and begins sk-ant-\n"
     ]
    }
   ],
   "source": [
    "# Load .env file and check the key validity.\n",
    "load_dotenv()\n",
    "\n",
    "anthropic_api_key = os.getenv('ANTHROPIC_API_KEY')\n",
    "\n",
    "if anthropic_api_key:\n",
    "    print(f\"Anthropic API Key exists and begins {anthropic_api_key[:7]}\")\n",
    "else:\n",
    "    print(\"Anthropic API Key not set\")"
   ]
  },
  {
   "cell_type": "code",
   "execution_count": 3,
   "id": "f965c85e-8a6f-4564-a5ae-fe1efcf5b01b",
   "metadata": {},
   "outputs": [],
   "source": [
    "# Connect to Claude\n",
    "\n",
    "claude = anthropic.Anthropic()"
   ]
  },
  {
   "cell_type": "code",
   "execution_count": 4,
   "id": "beccaa82-e87e-4e1f-b24c-11b6d4a82786",
   "metadata": {},
   "outputs": [],
   "source": [
    "# Set the system message defining how the AI should \"act\"\n",
    "system_message = \"You are a helpful assistant\""
   ]
  },
  {
   "cell_type": "code",
   "execution_count": 8,
   "id": "b2a8fa30-2f75-4abd-b22f-9f1b268c4d8e",
   "metadata": {},
   "outputs": [],
   "source": [
    "# Claude 3.5 Sonnet - beware you may need to update the model being used if deprecated. You'll get an error stating as much.\n",
    "# Also adding max_tokens to keep costs down\n",
    "# also added temperature just for example purposes.\n",
    "\n",
    "def message_claude(prompt):\n",
    "    message = claude.messages.create(\n",
    "        model=\"claude-3-5-sonnet-20241022\",\n",
    "        max_tokens=200,\n",
    "        temperature=0.7,\n",
    "        system=system_message,\n",
    "        messages=[\n",
    "            {\"role\": \"user\", \"content\": prompt},\n",
    "        ],\n",
    "    )\n",
    "    return message.content[0].text"
   ]
  },
  {
   "cell_type": "code",
   "execution_count": 9,
   "id": "c13475bb-88ab-4307-a79f-7533752dae27",
   "metadata": {},
   "outputs": [
    {
     "data": {
      "text/plain": [
       "\"Light exercise with sore muscles (known as DOMS - Delayed Onset Muscle Soreness) can actually be beneficial, but there are some important guidelines to follow:\\n\\nBenefits of light exercise with sore muscles:\\n- Increases blood flow to muscles, which can help reduce soreness\\n- Maintains mobility and flexibility\\n- Can speed up recovery\\n\\nGuidelines:\\n1. Reduce intensity: Do lighter versions of your normal workout\\n2. Focus on different muscle groups than the sore ones\\n3. Try low-impact activities like:\\n- Walking\\n- Swimming\\n- Light stretching\\n- Yoga\\n- Light cycling\\n\\nWhen to avoid exercise:\\n- If you're experiencing sharp or severe pain\\n- If the muscle is swollen or inflamed\\n- If you have limited range of motion\\n- If you're extremely fatigued\\n\\nRemember:\\n- Stay hydrated\\n- Get adequate rest\\n- Listen to your body\\n-\""
      ]
     },
     "execution_count": 9,
     "metadata": {},
     "output_type": "execute_result"
    }
   ],
   "source": [
    "# Test\n",
    "message_claude(\"Should I exercise if my muscles are sore?\")"
   ]
  },
  {
   "cell_type": "code",
   "execution_count": null,
   "id": "0498aeef-2037-422e-aab1-cbfb02a8d62b",
   "metadata": {},
   "outputs": [],
   "source": []
  }
 ],
 "metadata": {
  "kernelspec": {
   "display_name": "Python 3 (ipykernel)",
   "language": "python",
   "name": "python3"
  },
  "language_info": {
   "codemirror_mode": {
    "name": "ipython",
    "version": 3
   },
   "file_extension": ".py",
   "mimetype": "text/x-python",
   "name": "python",
   "nbconvert_exporter": "python",
   "pygments_lexer": "ipython3",
   "version": "3.11.11"
  }
 },
 "nbformat": 4,
 "nbformat_minor": 5
}
